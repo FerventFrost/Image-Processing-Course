{
 "cells": [
  {
   "cell_type": "code",
   "execution_count": 17,
   "metadata": {},
   "outputs": [],
   "source": [
    "import numpy as np\n",
    "import skimage as ski"
   ]
  },
  {
   "cell_type": "markdown",
   "metadata": {},
   "source": [
    "# Correlation"
   ]
  },
  {
   "cell_type": "code",
   "execution_count": 18,
   "metadata": {},
   "outputs": [
    {
     "data": {
      "text/plain": [
       "array([0, 0, 1, 0, 0], dtype=uint8)"
      ]
     },
     "execution_count": 18,
     "metadata": {},
     "output_type": "execute_result"
    }
   ],
   "source": [
    "zeroArray_5 = np.zeros(5, dtype=np.uint8)\n",
    "zeroArray_5[2] = 1\n",
    "zeroArray_5"
   ]
  },
  {
   "cell_type": "markdown",
   "metadata": {},
   "source": [
    "Filter"
   ]
  },
  {
   "cell_type": "code",
   "execution_count": 19,
   "metadata": {},
   "outputs": [
    {
     "data": {
      "text/plain": [
       "array([1, 2, 5, 7, 8], dtype=uint8)"
      ]
     },
     "execution_count": 19,
     "metadata": {},
     "output_type": "execute_result"
    }
   ],
   "source": [
    "correlation_filterSize= 5\n",
    "correlation_filter = np.array([1,2,5,7,8], dtype=np.uint8)\n",
    "correlation_filter"
   ]
  },
  {
   "cell_type": "code",
   "execution_count": 20,
   "metadata": {},
   "outputs": [
    {
     "data": {
      "text/plain": [
       "array([0], dtype=uint8)"
      ]
     },
     "execution_count": 20,
     "metadata": {},
     "output_type": "execute_result"
    }
   ],
   "source": [
    "correlation_newMatrixSize = zeroArray_5.size - correlation_filter.size + 1\n",
    "correlation_newMatrix = np.zeros(correlation_newMatrixSize, dtype=np.uint8)\n",
    "correlation_newMatrix"
   ]
  },
  {
   "cell_type": "code",
   "execution_count": 21,
   "metadata": {},
   "outputs": [
    {
     "data": {
      "text/plain": [
       "array([5], dtype=uint8)"
      ]
     },
     "execution_count": 21,
     "metadata": {},
     "output_type": "execute_result"
    }
   ],
   "source": [
    "for i in range(correlation_newMatrixSize):\n",
    "    correlation_newMatrix[i] = np.dot(zeroArray_5[i:i+correlation_filterSize], correlation_filter)\n",
    "correlation_newMatrix"
   ]
  },
  {
   "cell_type": "markdown",
   "metadata": {},
   "source": [
    "## bigger matrix"
   ]
  },
  {
   "cell_type": "code",
   "execution_count": 22,
   "metadata": {},
   "outputs": [
    {
     "data": {
      "text/plain": [
       "array([0, 0, 0, 1, 0, 0, 0], dtype=uint8)"
      ]
     },
     "execution_count": 22,
     "metadata": {},
     "output_type": "execute_result"
    }
   ],
   "source": [
    "zeroArray_7 = np.zeros(7, dtype=np.uint8)\n",
    "zeroArray_7[3] = 1\n",
    "zeroArray_7"
   ]
  },
  {
   "cell_type": "code",
   "execution_count": 23,
   "metadata": {},
   "outputs": [
    {
     "data": {
      "text/plain": [
       "array([0, 0, 0], dtype=uint8)"
      ]
     },
     "execution_count": 23,
     "metadata": {},
     "output_type": "execute_result"
    }
   ],
   "source": [
    "correlation_newMatrixSize_7 = zeroArray_7.size - correlation_filter.size + 1\n",
    "correlation_newMatrix_7 = np.zeros(correlation_newMatrixSize_7, dtype=np.uint8)\n",
    "correlation_newMatrix_7"
   ]
  },
  {
   "cell_type": "code",
   "execution_count": 24,
   "metadata": {},
   "outputs": [
    {
     "data": {
      "text/plain": [
       "array([7, 5, 2], dtype=uint8)"
      ]
     },
     "execution_count": 24,
     "metadata": {},
     "output_type": "execute_result"
    }
   ],
   "source": [
    "for i in range(correlation_newMatrixSize_7):\n",
    "    correlation_newMatrix_7[i] = np.dot(zeroArray_7[i:i+correlation_filterSize], correlation_filter)\n",
    "correlation_newMatrix_7"
   ]
  },
  {
   "cell_type": "markdown",
   "metadata": {},
   "source": [
    "# Convolution"
   ]
  },
  {
   "cell_type": "code",
   "execution_count": 25,
   "metadata": {},
   "outputs": [
    {
     "data": {
      "text/plain": [
       "array([8, 7, 5, 2, 1], dtype=uint8)"
      ]
     },
     "execution_count": 25,
     "metadata": {},
     "output_type": "execute_result"
    }
   ],
   "source": [
    "convolution_filter = correlation_filter[::-1]\n",
    "convolution_filter"
   ]
  },
  {
   "cell_type": "code",
   "execution_count": 26,
   "metadata": {},
   "outputs": [
    {
     "data": {
      "text/plain": [
       "array([0, 0, 0], dtype=uint8)"
      ]
     },
     "execution_count": 26,
     "metadata": {},
     "output_type": "execute_result"
    }
   ],
   "source": [
    "convolution_newMatrixSize_7 = zeroArray_7.size - convolution_filter.size + 1\n",
    "convolution_newMatrix_7 = np.zeros(convolution_newMatrixSize_7, dtype=np.uint8)\n",
    "convolution_newMatrix_7"
   ]
  },
  {
   "cell_type": "code",
   "execution_count": 27,
   "metadata": {},
   "outputs": [
    {
     "data": {
      "text/plain": [
       "array([2, 5, 7], dtype=uint8)"
      ]
     },
     "execution_count": 27,
     "metadata": {},
     "output_type": "execute_result"
    }
   ],
   "source": [
    "for i in range(convolution_newMatrixSize_7):\n",
    "    convolution_newMatrix_7[i] = np.dot(zeroArray_7[i:i+correlation_filterSize], convolution_filter)\n",
    "convolution_newMatrix_7"
   ]
  },
  {
   "cell_type": "markdown",
   "metadata": {},
   "source": [
    "# Padding"
   ]
  },
  {
   "cell_type": "markdown",
   "metadata": {},
   "source": [
    "## For 1D"
   ]
  },
  {
   "cell_type": "markdown",
   "metadata": {},
   "source": [
    "For 5 matrix"
   ]
  },
  {
   "cell_type": "code",
   "execution_count": 37,
   "metadata": {},
   "outputs": [
    {
     "data": {
      "text/plain": [
       "array([0, 0, 0, 0, 1, 0, 0, 0, 0], dtype=uint8)"
      ]
     },
     "execution_count": 37,
     "metadata": {},
     "output_type": "execute_result"
    }
   ],
   "source": [
    "correlation_newMatrix_paddingSize = int(correlation_filterSize/2)\n",
    "correlation_newMatrix_padding = np.pad(zeroArray_5, correlation_newMatrix_paddingSize, mode='constant')\n",
    "correlation_newMatrix_padding"
   ]
  },
  {
   "cell_type": "code",
   "execution_count": 39,
   "metadata": {},
   "outputs": [
    {
     "data": {
      "text/plain": [
       "array([0, 0, 0, 0, 0], dtype=uint8)"
      ]
     },
     "execution_count": 39,
     "metadata": {},
     "output_type": "execute_result"
    }
   ],
   "source": [
    "NewMatrix_5 = np.zeros(zeroArray_5.size, dtype=np.uint8)\n",
    "NewMatrix_5"
   ]
  },
  {
   "cell_type": "code",
   "execution_count": 41,
   "metadata": {},
   "outputs": [
    {
     "data": {
      "text/plain": [
       "array([8, 7, 5, 2, 1], dtype=uint8)"
      ]
     },
     "execution_count": 41,
     "metadata": {},
     "output_type": "execute_result"
    }
   ],
   "source": [
    "for i in range(zeroArray_5.size):\n",
    "  NewMatrix_5[i] = np.dot(correlation_newMatrix_padding[i:i+correlation_filterSize], correlation_filter)\n",
    "NewMatrix_5"
   ]
  },
  {
   "cell_type": "markdown",
   "metadata": {},
   "source": [
    "## For 2D"
   ]
  },
  {
   "cell_type": "code",
   "execution_count": 46,
   "metadata": {},
   "outputs": [
    {
     "data": {
      "text/plain": [
       "array([[0, 0, 0],\n",
       "       [0, 1, 0],\n",
       "       [0, 0, 0]], dtype=uint8)"
      ]
     },
     "execution_count": 46,
     "metadata": {},
     "output_type": "execute_result"
    }
   ],
   "source": [
    "correlation_2dMatrixSize_3 = (3,3)\n",
    "correlation_2dMatrix_3 = np.zeros(correlation_2dMatrixSize_3, dtype=np.uint8)\n",
    "correlation_2dMatrix_3[1,1] = 1\n",
    "correlation_2dMatrix_3"
   ]
  },
  {
   "cell_type": "code",
   "execution_count": 47,
   "metadata": {},
   "outputs": [
    {
     "data": {
      "text/plain": [
       "array([[0, 0, 0, 0, 0, 0, 0],\n",
       "       [0, 0, 0, 0, 0, 0, 0],\n",
       "       [0, 0, 0, 0, 0, 0, 0],\n",
       "       [0, 0, 0, 1, 0, 0, 0],\n",
       "       [0, 0, 0, 0, 0, 0, 0],\n",
       "       [0, 0, 0, 0, 0, 0, 0],\n",
       "       [0, 0, 0, 0, 0, 0, 0]], dtype=uint8)"
      ]
     },
     "execution_count": 47,
     "metadata": {},
     "output_type": "execute_result"
    }
   ],
   "source": [
    "correlation_2dPadding_3 = np.pad(correlation_2dMatrix_3, 2, mode='constant')\n",
    "correlation_2dPadding_3"
   ]
  },
  {
   "cell_type": "code",
   "execution_count": 52,
   "metadata": {},
   "outputs": [
    {
     "data": {
      "text/plain": [
       "array([[7, 3, 3, 9, 0],\n",
       "       [3, 4, 0, 5, 3],\n",
       "       [1, 2, 6, 5, 1],\n",
       "       [5, 3, 1, 0, 7],\n",
       "       [3, 3, 8, 0, 1]], dtype=uint8)"
      ]
     },
     "execution_count": 52,
     "metadata": {},
     "output_type": "execute_result"
    }
   ],
   "source": [
    "correlation_2dFilter_5 = np.random.randint(0, 10, (5,5), dtype=np.uint8)\n",
    "correlation_2dFilter_5"
   ]
  },
  {
   "cell_type": "code",
   "execution_count": 55,
   "metadata": {},
   "outputs": [
    {
     "data": {
      "text/plain": [
       "array([[0, 1, 3],\n",
       "       [5, 6, 2],\n",
       "       [5, 0, 4]], dtype=uint8)"
      ]
     },
     "execution_count": 55,
     "metadata": {},
     "output_type": "execute_result"
    }
   ],
   "source": [
    "correlation_2dNewMatrix_3 = np.zeros(correlation_2dMatrixSize_3, dtype=np.uint8)\n",
    "\n",
    "for i in range(correlation_2dMatrixSize_3[0]):\n",
    "    for j in range(correlation_2dMatrixSize_3[1]):\n",
    "        correlation_2dNewMatrix_3[i,j] = np.sum(correlation_2dPadding_3[i:i+correlation_filterSize, j:j+correlation_filterSize] * correlation_2dFilter_5)\n",
    "correlation_2dNewMatrix_3"
   ]
  }
 ],
 "metadata": {
  "kernelspec": {
   "display_name": "Week_5",
   "language": "python",
   "name": "python3"
  },
  "language_info": {
   "codemirror_mode": {
    "name": "ipython",
    "version": 3
   },
   "file_extension": ".py",
   "mimetype": "text/x-python",
   "name": "python",
   "nbconvert_exporter": "python",
   "pygments_lexer": "ipython3",
   "version": "3.11.8"
  }
 },
 "nbformat": 4,
 "nbformat_minor": 2
}
