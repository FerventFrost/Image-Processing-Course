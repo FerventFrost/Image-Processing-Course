{
 "cells": [
  {
   "cell_type": "code",
   "execution_count": null,
   "metadata": {},
   "outputs": [],
   "source": [
    "# immutable Data type\n",
    "\n",
    "myVar = \"hello\"\n",
    "myVar[0] = \"b\"\n",
    "print(myVar)"
   ]
  },
  {
   "cell_type": "code",
   "execution_count": null,
   "metadata": {},
   "outputs": [],
   "source": [
    "# mutable Data type\n",
    "myList = [1, 2, 3, 4]\n",
    "print(id(myList[0]))\n",
    "myList[0] = 5\n",
    "print(id(myList[0]))"
   ]
  },
  {
   "cell_type": "code",
   "execution_count": null,
   "metadata": {},
   "outputs": [],
   "source": [
    "# value type\n",
    "myVar = 10\n",
    "myVar2 = myVar\n",
    "myVar = 20\n",
    "\n",
    "print(myVar, myVar2)"
   ]
  },
  {
   "cell_type": "code",
   "execution_count": null,
   "metadata": {},
   "outputs": [],
   "source": [
    "# reference type\n",
    "myList = [1, 2, 3, 4]\n",
    "myList2 = myList.copy()\n",
    "myList[0] = 5\n",
    "\n",
    "print(myList, myList2)"
   ]
  },
  {
   "cell_type": "markdown",
   "metadata": {},
   "source": [
    "# FizzBuzz"
   ]
  },
  {
   "cell_type": "code",
   "execution_count": null,
   "metadata": {},
   "outputs": [],
   "source": [
    "number = input(\"Enter a number: \")\n",
    "number = int(number)\n",
    "\n",
    "output = \"\"\n",
    "\n",
    "if number % 5 == 0 and number % 3 == 0:\n",
    "  output = \"FizzBuzz\"\n",
    "elif number % 5 == 0:\n",
    "  output = \"Fizz\"\n",
    "elif number % 3 == 0:\n",
    "  output = \"Buzz\"\n",
    "\n",
    "print(output)"
   ]
  },
  {
   "cell_type": "markdown",
   "metadata": {},
   "source": [
    "# Sum of even number"
   ]
  },
  {
   "cell_type": "code",
   "execution_count": null,
   "metadata": {},
   "outputs": [],
   "source": [
    "myList = [1,3,4,6,8,9]\n",
    "sum = 0\n",
    "\n",
    "\n",
    "for i in range(len(myList)):\n",
    "  if myList[i] % 2 == 0:\n",
    "    sum += myList[i]\n",
    "\n",
    "print(sum)"
   ]
  },
  {
   "cell_type": "markdown",
   "metadata": {},
   "source": [
    "# Merge sorted array "
   ]
  },
  {
   "cell_type": "code",
   "execution_count": null,
   "metadata": {},
   "outputs": [],
   "source": [
    "num1 = [1,2,3]\n",
    "num2 = [2,5,6]\n",
    "\n",
    "newList = []\n",
    "\n",
    "n = len(num1)\n",
    "m = len(num2)\n",
    "i,j = 0,0\n",
    "\n",
    "while i < n and j < m:\n",
    "  if num1[i] < num2[j]:\n",
    "    newList.append(num1[i])\n",
    "    i += 1\n",
    "  else:\n",
    "    newList.append(num2[j])\n",
    "    j += 1\n",
    "\n",
    "while i < n:\n",
    "  newList.append(num1[i])\n",
    "  i += 1\n",
    "\n",
    "while j < m:\n",
    "  newList.append(num2[j])\n",
    "  j += 1\n",
    "\n",
    "print(newList)"
   ]
  }
 ],
 "metadata": {
  "kernelspec": {
   "display_name": "Python 3",
   "language": "python",
   "name": "python3"
  },
  "language_info": {
   "codemirror_mode": {
    "name": "ipython",
    "version": 3
   },
   "file_extension": ".py",
   "mimetype": "text/x-python",
   "name": "python",
   "nbconvert_exporter": "python",
   "pygments_lexer": "ipython3",
   "version": "3.11.8"
  }
 },
 "nbformat": 4,
 "nbformat_minor": 2
}
