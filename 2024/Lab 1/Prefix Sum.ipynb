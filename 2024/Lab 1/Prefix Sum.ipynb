{
 "cells": [
  {
   "cell_type": "markdown",
   "metadata": {},
   "source": [
    "## Calculates the prefix sum of an array.\n",
    "\n",
    "### Args:\n",
    "- arr (list): The input array.\n",
    "### Returns:\n",
    "* list: The prefix sum array.\n",
    "### Example:\n",
    "  ``` bash\n",
    "  >>> prefix_sum([1, 2, 3, 4, 5])\n",
    "  [1, 3, 6, 10, 15]\n",
    "  ```"
   ]
  },
  {
   "cell_type": "code",
   "execution_count": 1,
   "metadata": {},
   "outputs": [
    {
     "data": {
      "text/plain": [
       "'\\n  Calculates the prefix sum of an array.\\n\\n  Args:\\n    arr (list): The input array.\\n\\n  Returns:\\n    list: The prefix sum array.\\n\\n  Example:\\n    >>> prefix_sum([1, 2, 3, 4, 5])\\n    [1, 3, 6, 10, 15]\\n'"
      ]
     },
     "execution_count": 1,
     "metadata": {},
     "output_type": "execute_result"
    }
   ],
   "source": [
    "\n",
    "\"\"\"\n",
    "  Calculates the prefix sum of an array.\n",
    "\n",
    "  Args:\n",
    "    arr (list): The input array.\n",
    "\n",
    "  Returns:\n",
    "    list: The prefix sum array.\n",
    "\n",
    "  Example:\n",
    "    >>> prefix_sum([1, 2, 3, 4, 5])\n",
    "    [1, 3, 6, 10, 15]\n",
    "\"\"\"\n"
   ]
  },
  {
   "cell_type": "code",
   "execution_count": 2,
   "metadata": {},
   "outputs": [],
   "source": [
    "def prefix_sum(arr):  \n",
    "  prefix_sum_arr = []\n",
    "  prefix_sum = 0\n",
    "  for num in arr:\n",
    "    prefix_sum += num\n",
    "    prefix_sum_arr.append(prefix_sum)\n",
    "  return prefix_sum_arr"
   ]
  },
  {
   "cell_type": "code",
   "execution_count": 3,
   "metadata": {},
   "outputs": [
    {
     "data": {
      "text/plain": [
       "[1, 3, 6, 10, 15]"
      ]
     },
     "execution_count": 3,
     "metadata": {},
     "output_type": "execute_result"
    }
   ],
   "source": [
    "prefix_sum([1, 2, 3, 4, 5])"
   ]
  }
 ],
 "metadata": {
  "kernelspec": {
   "display_name": "Week_1",
   "language": "python",
   "name": "python3"
  },
  "language_info": {
   "codemirror_mode": {
    "name": "ipython",
    "version": 3
   },
   "file_extension": ".py",
   "mimetype": "text/x-python",
   "name": "python",
   "nbconvert_exporter": "python",
   "pygments_lexer": "ipython3",
   "version": "3.11.8"
  }
 },
 "nbformat": 4,
 "nbformat_minor": 2
}
