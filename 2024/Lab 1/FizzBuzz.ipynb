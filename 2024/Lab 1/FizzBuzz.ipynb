{
 "cells": [
  {
   "cell_type": "markdown",
   "metadata": {},
   "source": [
    "## Perform the FizzBuzz operation on a given number.\n",
    "\n",
    "### Args:\n",
    "  - n (int): The number to perform the FizzBuzz operation on.\n",
    "### Returns:\n",
    "  - str: The FizzBuzz result for the given number.\n",
    "### Description:\n",
    "  The FizzBuzz operation is a common programming task where you iterate over a range of numbers and perform the following actions:\n",
    "  - If the number is divisible by 3, print \"Fizz\".\n",
    "  - If the number is divisible by 5, print \"Buzz\".\n",
    "  - If the number is divisible by both 3 and 5, print \"FizzBuzz\".\n",
    "  - Otherwise, print the number itself.\n",
    "### Example:\n",
    "  ```bash\n",
    "  >>> fizzbuzz(15)\n",
    "  'FizzBuzz'\n",
    "  >>> fizzbuzz(3)\n",
    "  'Fizz'\n",
    "  >>> fizzbuzz(5)\n",
    "  'Buzz'\n",
    "  >>> fizzbuzz(7)\n",
    "  '7'\n",
    "  ```"
   ]
  },
  {
   "cell_type": "code",
   "execution_count": 2,
   "metadata": {},
   "outputs": [
    {
     "data": {
      "text/plain": [
       "'\\n  Perform the FizzBuzz operation on a given number.\\n\\n  Args:\\n    n (int): The number to perform the FizzBuzz operation on.\\n\\n  Returns:\\n    str: The FizzBuzz result for the given number.\\n\\n  Description:\\n    The FizzBuzz operation is a common programming task where you iterate over a range of numbers and perform the following actions:\\n    - If the number is divisible by 3, print \"Fizz\".\\n    - If the number is divisible by 5, print \"Buzz\".\\n    - If the number is divisible by both 3 and 5, print \"FizzBuzz\".\\n    - Otherwise, print the number itself.\\n\\n  Example:\\n    >>> fizzbuzz(15)\\n    \\'FizzBuzz\\'\\n    >>> fizzbuzz(3)\\n    \\'Fizz\\'\\n    >>> fizzbuzz(5)\\n    \\'Buzz\\'\\n    >>> fizzbuzz(7)\\n    \\'7\\'\\n'"
      ]
     },
     "execution_count": 2,
     "metadata": {},
     "output_type": "execute_result"
    }
   ],
   "source": [
    "\"\"\"\n",
    "  Perform the FizzBuzz operation on a given number.\n",
    "\n",
    "  Args:\n",
    "    n (int): The number to perform the FizzBuzz operation on.\n",
    "\n",
    "  Returns:\n",
    "    str: The FizzBuzz result for the given number.\n",
    "\n",
    "  Description:\n",
    "    The FizzBuzz operation is a common programming task where you iterate over a range of numbers and perform the following actions:\n",
    "    - If the number is divisible by 3, print \"Fizz\".\n",
    "    - If the number is divisible by 5, print \"Buzz\".\n",
    "    - If the number is divisible by both 3 and 5, print \"FizzBuzz\".\n",
    "    - Otherwise, print the number itself.\n",
    "\n",
    "  Example:\n",
    "    >>> fizzbuzz(15)\n",
    "    'FizzBuzz'\n",
    "    >>> fizzbuzz(3)\n",
    "    'Fizz'\n",
    "    >>> fizzbuzz(5)\n",
    "    'Buzz'\n",
    "    >>> fizzbuzz(7)\n",
    "    '7'\n",
    "\"\"\"\n"
   ]
  },
  {
   "cell_type": "code",
   "execution_count": 2,
   "metadata": {},
   "outputs": [],
   "source": [
    "def FizzBuzz(n):\n",
    "  if n % 3 == 0 and n % 5 == 0:\n",
    "    return \"FizzBuzz\"\n",
    "  elif n % 3 == 0:\n",
    "    return \"Fizz\"\n",
    "  elif n % 5 == 0:\n",
    "    return \"Buzz\"\n",
    "  else:\n",
    "    return str(n)"
   ]
  },
  {
   "cell_type": "code",
   "execution_count": 3,
   "metadata": {},
   "outputs": [
    {
     "data": {
      "text/plain": [
       "'FizzBuzz'"
      ]
     },
     "execution_count": 3,
     "metadata": {},
     "output_type": "execute_result"
    }
   ],
   "source": [
    "FizzBuzz(30)"
   ]
  }
 ],
 "metadata": {
  "kernelspec": {
   "display_name": "Week_1",
   "language": "python",
   "name": "python3"
  },
  "language_info": {
   "codemirror_mode": {
    "name": "ipython",
    "version": 3
   },
   "file_extension": ".py",
   "mimetype": "text/x-python",
   "name": "python",
   "nbconvert_exporter": "python",
   "pygments_lexer": "ipython3",
   "version": "3.11.8"
  }
 },
 "nbformat": 4,
 "nbformat_minor": 2
}
