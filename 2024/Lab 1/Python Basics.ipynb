{
 "cells": [
  {
   "cell_type": "markdown",
   "metadata": {},
   "source": [
    "# Datatypes\n",
    "Some defination before we get start:\n",
    "  - **Value type** means the data that is stored in the variable is copied, not it's address.\n",
    "    - For example: \n",
    "      ```python\n",
    "      x = 10\n",
    "      y = x\n",
    "      y = 20\n",
    "      print(f\"X: {x}, Y: {y}\")\n",
    "      # Output X: 10, Y: 20\n",
    "      ```  \n",
    "      Here value of `x` which is `10` is copied, then we change the value of `y` which won't effect value of `x`.\n",
    "      > [!Note]\n",
    "      > type of x is int which is value type\n",
    "  - **Referrence type** means the address of the data that is stored in the variable is copied.\n",
    "    - For example:\n",
    "      ```python\n",
    "      List_1 = [1,2,3]\n",
    "      List_2 = List_1\n",
    "      List_2.append(5)\n",
    "      print(f\"List 1: {List_1}, List 2: {List_2}\")\n",
    "      # Output List 1: [1,2,3,5], List 2: [1,2,3,5]\n",
    "      ```\n",
    "      Here `List_1` copied it's address not the value, this means when you change the structure of `List_2` will also change structure of `List_1`.\n",
    "      > [!Note]\n",
    "      > type of `List_1` is list which is refernce type\n",
    "  - **Immutable** means once the object it created (program allocate memory to store data), its content (data) can't be changed. but if content changed or modified new memory address is allocated and the object will be assigend to it.\n",
    "    - For example:\n",
    "      ```python\n",
    "      x = 1\n",
    "      print(f\"x is {x} and x address : {id(x)}\") \n",
    "      y = x \n",
    "      print(f\"y is {y} and y address : {id(y)}\") \n",
    "      x = 2\n",
    "      print(f\"x is {x} and x address : {id(x)}\") \n",
    "      print(f\"y is {y} and y address : {id(y)}\") \n",
    "      \"\"\"\n",
    "      Output:\n",
    "      x is 1 and x address : 140723451024168\n",
    "      y is 1 and y address : 140723451024168\n",
    "      x is 2 and x address : 140723451024200\n",
    "      y is 1 and y address : 140723451024168\n",
    "      \"\"\"\n",
    "      ```\n",
    "      Here `x` address is change once we modify the content with any operation (add, sub, or even assign variable to new value).\n",
    "      > [!Note]\n",
    "      > int is immutable\n",
    "  - **Mutable** is the exact opposite of **Immutable**, changing or modifing content of the variable is allowed and address of the variable doesn't change.\n",
    "    - For example:\n",
    "      ```python\n",
    "      x = [1,2,3,4,5]\n",
    "      print(f\"x is {x} and x address : {id(x)}\") \n",
    "      y = x \n",
    "      print(f\"y is {y} and y address : {id(y)}\") \n",
    "      x[0] = 100\n",
    "      print(f\"x is {x} and x address : {id(x)}\") \n",
    "      print(f\"y is {y} and y address : {id(y)}\") \n",
    "      \"\"\"\n",
    "      OutPut:\n",
    "      x is [1, 2, 3, 4, 5] and x address : 1647832812928\n",
    "      y is [1, 2, 3, 4, 5] and y address : 1647832812928\n",
    "      x is [100, 2, 3, 4, 5] and x address : 1647832812928\n",
    "      y is [100, 2, 3, 4, 5] and y address : 1647832812928\n",
    "      ```\n",
    "      Even after modifing content of `x`, `x`'s address doesn't.\n",
    "      > [!Note]\n",
    "      > List is immutable"
   ]
  },
  {
   "cell_type": "markdown",
   "metadata": {},
   "source": [
    "## Int \n",
    "(value types, immutable)"
   ]
  },
  {
   "cell_type": "code",
   "execution_count": 10,
   "metadata": {},
   "outputs": [
    {
     "name": "stdout",
     "output_type": "stream",
     "text": [
      "x is 1 and x address : 140723451024168\n",
      "y is 1 and y address : 140723451024168\n",
      "x is 2 and x address : 140723451024200\n",
      "y is 1 and y address : 140723451024168\n"
     ]
    }
   ],
   "source": [
    "x = 1\n",
    "print(f\"x is {x} and x address : {id(x)}\") \n",
    "y = x \n",
    "print(f\"y is {y} and y address : {id(y)}\") \n",
    "x = 2\n",
    "print(f\"x is {x} and x address : {id(x)}\") \n",
    "print(f\"y is {y} and y address : {id(y)}\") "
   ]
  },
  {
   "cell_type": "markdown",
   "metadata": {},
   "source": [
    "# Floats\n",
    "(value types, immutable)"
   ]
  },
  {
   "cell_type": "code",
   "execution_count": 9,
   "metadata": {},
   "outputs": [
    {
     "name": "stdout",
     "output_type": "stream",
     "text": [
      "x is 1.0 and x address : 1647831898448\n",
      "y is 1.0 and y address : 1647831898448\n",
      "x is 2.2 and x address : 1647831898416\n",
      "y is 1.0 and y address : 1647831898448\n"
     ]
    }
   ],
   "source": [
    "x = 1.0\n",
    "print(f\"x is {x} and x address : {id(x)}\") \n",
    "y = x \n",
    "print(f\"y is {y} and y address : {id(y)}\") \n",
    "x = 2.2\n",
    "print(f\"x is {x} and x address : {id(x)}\") \n",
    "print(f\"y is {y} and y address : {id(y)}\") "
   ]
  },
  {
   "cell_type": "markdown",
   "metadata": {},
   "source": [
    "## Booleans\n",
    "(value types, immutable)"
   ]
  },
  {
   "cell_type": "code",
   "execution_count": 8,
   "metadata": {},
   "outputs": [
    {
     "name": "stdout",
     "output_type": "stream",
     "text": [
      "x is True and x address : 140723449494376\n",
      "y is True and y address : 140723449494376\n",
      "x is False and x address : 140723449494408\n",
      "y is True and y address : 140723449494376\n"
     ]
    }
   ],
   "source": [
    "x = True\n",
    "print(f\"x is {x} and x address : {id(x)}\") \n",
    "y = x \n",
    "print(f\"y is {y} and y address : {id(y)}\") \n",
    "x = False\n",
    "print(f\"x is {x} and x address : {id(x)}\") \n",
    "print(f\"y is {y} and y address : {id(y)}\") "
   ]
  },
  {
   "cell_type": "markdown",
   "metadata": {},
   "source": [
    "## Strings\n",
    "(reference types, immutable)"
   ]
  },
  {
   "cell_type": "code",
   "execution_count": 7,
   "metadata": {},
   "outputs": [
    {
     "name": "stdout",
     "output_type": "stream",
     "text": [
      "x is hello and x address : 1647811116912\n",
      "y is hello and y address : 1647811116912\n",
      "x is world and x address : 1647832221296\n",
      "y is hello and y address : 1647811116912\n"
     ]
    }
   ],
   "source": [
    "x = 'hello'\n",
    "print(f\"x is {x} and x address : {id(x)}\") \n",
    "y = x \n",
    "print(f\"y is {y} and y address : {id(y)}\") \n",
    "x = \"world\"\n",
    "print(f\"x is {x} and x address : {id(x)}\")\n",
    "print(f\"y is {y} and y address : {id(y)}\") "
   ]
  },
  {
   "cell_type": "markdown",
   "metadata": {},
   "source": [
    "## List\n",
    "(reference types, mutable)"
   ]
  },
  {
   "cell_type": "code",
   "execution_count": 6,
   "metadata": {},
   "outputs": [
    {
     "name": "stdout",
     "output_type": "stream",
     "text": [
      "x is [1, 2, 3, 4, 5] and x address : 1647832812928\n",
      "y is [1, 2, 3, 4, 5] and y address : 1647832812928\n",
      "x is [100, 2, 3, 4, 5] and x address : 1647832812928\n",
      "y is [100, 2, 3, 4, 5] and y address : 1647832812928\n"
     ]
    }
   ],
   "source": [
    "x = [1,2,3,4,5]\n",
    "print(f\"x is {x} and x address : {id(x)}\") \n",
    "y = x \n",
    "print(f\"y is {y} and y address : {id(y)}\") \n",
    "x[0] = 100\n",
    "print(f\"x is {x} and x address : {id(x)}\") \n",
    "print(f\"y is {y} and y address : {id(y)}\") "
   ]
  },
  {
   "cell_type": "markdown",
   "metadata": {},
   "source": [
    "## Set\n",
    "(reference types, mutable)\n",
    "you can't access and change a specific index"
   ]
  },
  {
   "cell_type": "code",
   "execution_count": 12,
   "metadata": {},
   "outputs": [
    {
     "name": "stdout",
     "output_type": "stream",
     "text": [
      "x is {1, 2, 3, 4, 5} and x address : 1647832094688\n",
      "y is {1, 2, 3, 4, 5} and y address : 1647832094688\n",
      "x is {1, 2, 4, 5} and x address : 1647832094688\n",
      "y is {1, 2, 4, 5} and y address : 1647832094688\n"
     ]
    }
   ],
   "source": [
    "x = {1,1,2,1,2,3,4,5}\n",
    "print(f\"x is {x} and x address : {id(x)}\") \n",
    "y = x \n",
    "print(f\"y is {y} and y address : {id(y)}\") \n",
    "x.discard(3)\n",
    "print(f\"x is {x} and x address : {id(x)}\") \n",
    "print(f\"y is {y} and y address : {id(y)}\") "
   ]
  },
  {
   "cell_type": "markdown",
   "metadata": {},
   "source": [
    "# Tuple\n",
    "(reference types, immutable)\n",
    "you can't access and change a specific index"
   ]
  },
  {
   "cell_type": "code",
   "execution_count": 15,
   "metadata": {},
   "outputs": [
    {
     "name": "stdout",
     "output_type": "stream",
     "text": [
      "x is (1, 2, 3) and x address : 1647838815104\n",
      "y is (1, 2, 3) and y address : 1647838815104\n",
      "x is (100, 2, 3) and x address : 1647838602496\n",
      "y is (1, 2, 3) and y address : 1647838815104\n"
     ]
    }
   ],
   "source": [
    "x = (1,2,3)\n",
    "print(f\"x is {x} and x address : {id(x)}\") \n",
    "y = x \n",
    "print(f\"y is {y} and y address : {id(y)}\") \n",
    "m = list(x)\n",
    "m[0] = 100\n",
    "x = tuple(m)\n",
    "print(f\"x is {x} and x address : {id(x)}\") \n",
    "print(f\"y is {y} and y address : {id(y)}\") "
   ]
  },
  {
   "cell_type": "markdown",
   "metadata": {},
   "source": [
    "## Dictionaries\n",
    "(reference types, mutable)"
   ]
  },
  {
   "cell_type": "code",
   "execution_count": 16,
   "metadata": {},
   "outputs": [
    {
     "name": "stdout",
     "output_type": "stream",
     "text": [
      "x is {'a': 1, 'b': 2} and x address : 1647838652736\n",
      "y is {'a': 1, 'b': 2} and y address : 1647838652736\n",
      "x is {'a': 1, 'b': 2, 'c': 3} and x address : 1647838652736\n",
      "y is {'a': 1, 'b': 2, 'c': 3} and y address : 1647838652736\n"
     ]
    }
   ],
   "source": [
    "x =  {'a': 1, 'b': 2}\n",
    "print(f\"x is {x} and x address : {id(x)}\") \n",
    "y = x \n",
    "print(f\"y is {y} and y address : {id(y)}\") \n",
    "x['c'] = 3\n",
    "print(f\"x is {x} and x address : {id(x)}\") \n",
    "print(f\"y is {y} and y address : {id(y)}\") "
   ]
  },
  {
   "cell_type": "markdown",
   "metadata": {},
   "source": [
    "## None and object"
   ]
  },
  {
   "cell_type": "code",
   "execution_count": 17,
   "metadata": {},
   "outputs": [
    {
     "name": "stdout",
     "output_type": "stream",
     "text": [
      "None\n",
      "<object object at 0x0000017FAABFE380>\n",
      "<object object at 0x0000017FAABFE350>\n"
     ]
    }
   ],
   "source": [
    "# None (value types)\n",
    "x = None\n",
    "y = x\n",
    "x = 1\n",
    "print(y) # None\n",
    "\n",
    "# Custom Objects (reference types, immutable)\n",
    "x = object()\n",
    "y = x\n",
    "x = object()\n",
    "print(x)\n",
    "print(y) "
   ]
  },
  {
   "cell_type": "markdown",
   "metadata": {},
   "source": [
    "# Condition"
   ]
  },
  {
   "cell_type": "markdown",
   "metadata": {},
   "source": [
    "## If elif else"
   ]
  },
  {
   "cell_type": "code",
   "execution_count": 18,
   "metadata": {},
   "outputs": [
    {
     "name": "stdout",
     "output_type": "stream",
     "text": [
      "x is greater than 5\n",
      "x is greater than 5\n",
      "x is equal to 10\n",
      "x is between 5 and 15\n"
     ]
    }
   ],
   "source": [
    "x = 10\n",
    "\n",
    "# Simple if statement\n",
    "if x > 5:\n",
    "    print(\"x is greater than 5\")\n",
    "\n",
    "# if-else statement\n",
    "if x > 5:\n",
    "    print(\"x is greater than 5\")\n",
    "else:\n",
    "    print(\"x is not greater than 5\")\n",
    "\n",
    "# if-elif-else statement\n",
    "if x > 10:\n",
    "    print(\"x is greater than 10\")\n",
    "elif x == 10:\n",
    "    print(\"x is equal to 10\")\n",
    "else:\n",
    "    print(\"x is less than 10\")\n",
    "\n",
    "# Nested if statement\n",
    "if x > 5:\n",
    "    if x < 15:\n",
    "        print(\"x is between 5 and 15\")"
   ]
  },
  {
   "cell_type": "markdown",
   "metadata": {},
   "source": [
    "## Ternary condition"
   ]
  },
  {
   "cell_type": "code",
   "execution_count": 19,
   "metadata": {},
   "outputs": [
    {
     "name": "stdout",
     "output_type": "stream",
     "text": [
      "x is greater than 5 \n"
     ]
    }
   ],
   "source": [
    "message = \"x is greater than 5 \" if x > 5 else \" x is not greater than 5\"\n",
    "print(message)"
   ]
  },
  {
   "cell_type": "markdown",
   "metadata": {},
   "source": [
    "# Loops"
   ]
  },
  {
   "cell_type": "code",
   "execution_count": 20,
   "metadata": {},
   "outputs": [
    {
     "name": "stdout",
     "output_type": "stream",
     "text": [
      "0-1-2-3-4-\n",
      "0-1-2-3-4-\n",
      "1-2-3-4-5-\n",
      "0-1-2-3-4-"
     ]
    }
   ],
   "source": [
    "for i in range(5):\n",
    "    print(i, end=\"-\")\n",
    "print()\n",
    "# While loop\n",
    "i = 0\n",
    "while i < 5:\n",
    "    print(i, end=\"-\")\n",
    "    i += 1\n",
    "print()\n",
    "# For each loop\n",
    "for i in [1, 2, 3, 4, 5]:\n",
    "    print(i, end=\"-\")\n",
    "print()\n",
    "# for len loop\n",
    "for i in range(len([1, 2, 3, 4, 5])):\n",
    "    print(i, end=\"-\")"
   ]
  },
  {
   "cell_type": "markdown",
   "metadata": {},
   "source": [
    "# Function"
   ]
  },
  {
   "cell_type": "code",
   "execution_count": 21,
   "metadata": {},
   "outputs": [
    {
     "name": "stdout",
     "output_type": "stream",
     "text": [
      "Hello, world!\n"
     ]
    }
   ],
   "source": [
    "def greet():\n",
    "    print(\"Hello, world!\")\n",
    "\n",
    "# Call the function\n",
    "greet()"
   ]
  },
  {
   "cell_type": "code",
   "execution_count": 22,
   "metadata": {},
   "outputs": [
    {
     "name": "stdout",
     "output_type": "stream",
     "text": [
      "Hello, John!\n"
     ]
    }
   ],
   "source": [
    "# Function with parameters\n",
    "def greetPara(name):\n",
    "    print(f\"Hello, {name}!\")\n",
    "\n",
    "# Call the function\n",
    "greetPara(\"John\")"
   ]
  },
  {
   "cell_type": "code",
   "execution_count": 24,
   "metadata": {},
   "outputs": [
    {
     "name": "stdout",
     "output_type": "stream",
     "text": [
      "3\n"
     ]
    }
   ],
   "source": [
    "# Function with return value\n",
    "def add(x, y):\n",
    "    return x + y\n",
    "\n",
    "# Call the function\n",
    "result = add(1, 2)\n",
    "print(result)"
   ]
  },
  {
   "cell_type": "code",
   "execution_count": 25,
   "metadata": {},
   "outputs": [
    {
     "name": "stdout",
     "output_type": "stream",
     "text": [
      "Hello, world!\n"
     ]
    }
   ],
   "source": [
    "# Function with default parameter\n",
    "def greetDef(name=\"world\"):\n",
    "    print(f\"Hello, {name}!\")\n",
    "\n",
    "# Call the function\n",
    "greetDef()"
   ]
  }
 ],
 "metadata": {
  "kernelspec": {
   "display_name": "Week_1",
   "language": "python",
   "name": "python3"
  },
  "language_info": {
   "codemirror_mode": {
    "name": "ipython",
    "version": 3
   },
   "file_extension": ".py",
   "mimetype": "text/x-python",
   "name": "python",
   "nbconvert_exporter": "python",
   "pygments_lexer": "ipython3",
   "version": "3.11.8"
  }
 },
 "nbformat": 4,
 "nbformat_minor": 2
}
